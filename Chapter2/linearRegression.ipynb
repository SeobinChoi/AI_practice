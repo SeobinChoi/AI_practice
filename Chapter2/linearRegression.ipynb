{
 "cells": [
  {
   "cell_type": "markdown",
   "metadata": {},
   "source": [
    "# Linear Regression Practice\n",
    "\n",
    "This notebook covers linear regression implementation and practice using Python."
   ]
  },
  {
   "cell_type": "markdown",
   "metadata": {},
   "source": [
    "## Import Required Libraries"
   ]
  },
  {
   "cell_type": "code",
   "execution_count": null,
   "metadata": {},
   "outputs": [],
   "source": [
    "import numpy as np\n",
    "import matplotlib.pyplot as plt\n",
    "import pandas as pd\n",
    "from sklearn.linear_model import LinearRegression\n",
    "from sklearn.model_selection import train_test_split\n",
    "from sklearn.metrics import mean_squared_error, r2_score\n",
    "import seaborn as sns\n",
    "\n",
    "plt.style.use('seaborn-v0_8')\n",
    "np.random.seed(42)"
   ]
  },
  {
   "cell_type": "markdown",
   "metadata": {},
   "source": [
    "## 1. Simple Linear Regression from Scratch"
   ]
  },
  {
   "cell_type": "code",
   "execution_count": null,
   "metadata": {},
   "outputs": [],
   "source": [
    "class SimpleLinearRegression:\n",
    "    def __init__(self):\n",
    "        self.slope = None\n",
    "        self.intercept = None\n",
    "    \n",
    "    def fit(self, X, y):\n",
    "        # Calculate slope and intercept using least squares\n",
    "        X_mean = np.mean(X)\n",
    "        y_mean = np.mean(y)\n",
    "        \n",
    "        # Calculate slope (m)\n",
    "        numerator = np.sum((X - X_mean) * (y - y_mean))\n",
    "        denominator = np.sum((X - X_mean) ** 2)\n",
    "        self.slope = numerator / denominator\n",
    "        \n",
    "        # Calculate intercept (b)\n",
    "        self.intercept = y_mean - self.slope * X_mean\n",
    "    \n",
    "    def predict(self, X):\n",
    "        return self.slope * X + self.intercept\n",
    "    \n",
    "    def score(self, X, y):\n",
    "        y_pred = self.predict(X)\n",
    "        ss_res = np.sum((y - y_pred) ** 2)\n",
    "        ss_tot = np.sum((y - np.mean(y)) ** 2)\n",
    "        return 1 - (ss_res / ss_tot)\n",
    "\n",
    "print(\"Simple Linear Regression class created successfully!\")"
   ]
  },
  {
   "cell_type": "markdown",
   "metadata": {},
   "source": [
    "## 2. Generate Sample Data"
   ]
  },
  {
   "cell_type": "code",
   "execution_count": null,
   "metadata": {},
   "outputs": [],
   "source": [
    "# Generate synthetic data\n",
    "n_samples = 100\n",
    "X = np.linspace(0, 10, n_samples)\n",
    "y = 2.5 * X + 1.5 + np.random.normal(0, 1.5, n_samples)\n",
    "\n",
    "# Plot the data\n",
    "plt.figure(figsize=(10, 6))\n",
    "plt.scatter(X, y, alpha=0.6, color='blue')\n",
    "plt.xlabel('X')\n",
    "plt.ylabel('y')\n",
    "plt.title('Generated Sample Data')\n",
    "plt.grid(True, alpha=0.3)\n",
    "plt.show()\n",
    "\n",
    "print(f\"Generated {n_samples} data points\")\n",
    "print(f\"X range: [{X.min():.2f}, {X.max():.2f}]\")\n",
    "print(f\"y range: [{y.min():.2f}, {y.max():.2f}]\")"
   ]
  },
  {
   "cell_type": "markdown",
   "metadata": {},
   "source": [
    "## 3. Train Custom Linear Regression"
   ]
  },
  {
   "cell_type": "code",
   "execution_count": null,
   "metadata": {},
   "outputs": [],
   "source": [
    "# Train our custom model\n",
    "custom_model = SimpleLinearRegression()\n",
    "custom_model.fit(X, y)\n",
    "\n",
    "# Make predictions\n",
    "y_pred_custom = custom_model.predict(X)\n",
    "\n",
    "# Display results\n",
    "print(f\"Custom Model Results:\")\n",
    "print(f\"Slope: {custom_model.slope:.4f}\")\n",
    "print(f\"Intercept: {custom_model.intercept:.4f}\")\n",
    "print(f\"R² Score: {custom_model.score(X, y):.4f}\")\n",
    "print(f\"Equation: y = {custom_model.slope:.4f}x + {custom_model.intercept:.4f}\")"
   ]
  },
  {
   "cell_type": "markdown",
   "metadata": {},
   "source": [
    "## 4. Compare with Scikit-Learn"
   ]
  },
  {
   "cell_type": "code",
   "execution_count": null,
   "metadata": {},
   "outputs": [],
   "source": [
    "# Train sklearn model\n",
    "sklearn_model = LinearRegression()\n",
    "X_reshaped = X.reshape(-1, 1)  # sklearn expects 2D array\n",
    "sklearn_model.fit(X_reshaped, y)\n",
    "\n",
    "# Make predictions\n",
    "y_pred_sklearn = sklearn_model.predict(X_reshaped)\n",
    "\n",
    "# Display results\n",
    "print(f\"Scikit-Learn Model Results:\")\n",
    "print(f\"Slope: {sklearn_model.coef_[0]:.4f}\")\n",
    "print(f\"Intercept: {sklearn_model.intercept_:.4f}\")\n",
    "print(f\"R² Score: {sklearn_model.score(X_reshaped, y):.4f}\")\n",
    "print(f\"Equation: y = {sklearn_model.coef_[0]:.4f}x + {sklearn_model.intercept_:.4f}\")\n",
    "\n",
    "print(\"\\nComparison:\")\n",
    "print(f\"Slope difference: {abs(custom_model.slope - sklearn_model.coef_[0]):.6f}\")\n",
    "print(f\"Intercept difference: {abs(custom_model.intercept - sklearn_model.intercept_):.6f}\")"
   ]
  },
  {
   "cell_type": "markdown",
   "metadata": {},
   "source": [
    "## 5. Visualize Results"
   ]
  },
  {
   "cell_type": "code",
   "execution_count": null,
   "metadata": {},
   "outputs": [],
   "source": [
    "plt.figure(figsize=(12, 8))\n",
    "\n",
    "# Plot original data\n",
    "plt.scatter(X, y, alpha=0.6, color='blue', label='Data Points')\n",
    "\n",
    "# Plot both regression lines\n",
    "plt.plot(X, y_pred_custom, 'r-', linewidth=2, label='Custom Linear Regression')\n",
    "plt.plot(X, y_pred_sklearn, 'g--', linewidth=2, label='Scikit-Learn Linear Regression')\n",
    "\n",
    "plt.xlabel('X', fontsize=12)\n",
    "plt.ylabel('y', fontsize=12)\n",
    "plt.title('Linear Regression Comparison', fontsize=14)\n",
    "plt.legend(fontsize=12)\n",
    "plt.grid(True, alpha=0.3)\n",
    "plt.show()"
   ]
  },
  {
   "cell_type": "markdown",
   "metadata": {},
   "source": [
    "## 6. Real Dataset Example - Housing Data"
   ]
  },
  {
   "cell_type": "code",
   "execution_count": null,
   "metadata": {},
   "outputs": [],
   "source": [
    "# Create a synthetic housing dataset\n",
    "np.random.seed(42)\n",
    "n_houses = 500\n",
    "\n",
    "# Features: rooms, age, distance to employment centers\n",
    "rooms = np.random.normal(6, 1, n_houses)\n",
    "age = np.random.uniform(0, 100, n_houses)\n",
    "distance = np.random.exponential(3, n_houses)\n",
    "\n",
    "# Price based on features with some noise\n",
    "price = (rooms * 8 - age * 0.1 - distance * 2 + np.random.normal(0, 3, n_houses))\n",
    "price = np.maximum(price, 5)  # Ensure positive prices\n",
    "\n",
    "# Create DataFrame\n",
    "housing_data = pd.DataFrame({\n",
    "    'rooms': rooms,\n",
    "    'age': age,\n",
    "    'distance': distance,\n",
    "    'price': price\n",
    "})\n",
    "\n",
    "print(\"Housing Dataset:\")\n",
    "print(housing_data.head())\n",
    "print(f\"\\nDataset shape: {housing_data.shape}\")\n",
    "print(\"\\nBasic statistics:\")\n",
    "print(housing_data.describe())"
   ]
  },
  {
   "cell_type": "markdown",
   "metadata": {},
   "source": [
    "## 7. Multiple Linear Regression"
   ]
  },
  {
   "cell_type": "code",
   "execution_count": null,
   "metadata": {},
   "outputs": [],
   "source": [
    "# Prepare features and target\n",
    "X_multi = housing_data[['rooms', 'age', 'distance']]\n",
    "y_multi = housing_data['price']\n",
    "\n",
    "# Split the data\n",
    "X_train, X_test, y_train, y_test = train_test_split(\n",
    "    X_multi, y_multi, test_size=0.2, random_state=42\n",
    ")\n",
    "\n",
    "# Train the model\n",
    "multi_model = LinearRegression()\n",
    "multi_model.fit(X_train, y_train)\n",
    "\n",
    "# Make predictions\n",
    "y_train_pred = multi_model.predict(X_train)\n",
    "y_test_pred = multi_model.predict(X_test)\n",
    "\n",
    "# Evaluate the model\n",
    "train_r2 = r2_score(y_train, y_train_pred)\n",
    "test_r2 = r2_score(y_test, y_test_pred)\n",
    "train_rmse = np.sqrt(mean_squared_error(y_train, y_train_pred))\n",
    "test_rmse = np.sqrt(mean_squared_error(y_test, y_test_pred))\n",
    "\n",
    "print(\"Multiple Linear Regression Results:\")\n",
    "print(f\"Training R² Score: {train_r2:.4f}\")\n",
    "print(f\"Testing R² Score: {test_r2:.4f}\")\n",
    "print(f\"Training RMSE: {train_rmse:.4f}\")\n",
    "print(f\"Testing RMSE: {test_rmse:.4f}\")\n",
    "\n",
    "print(\"\\nModel Coefficients:\")\n",
    "for feature, coef in zip(X_multi.columns, multi_model.coef_):\n",
    "    print(f\"{feature}: {coef:.4f}\")\n",
    "print(f\"Intercept: {multi_model.intercept_:.4f}\")"
   ]
  },
  {
   "cell_type": "markdown",
   "metadata": {},
   "source": [
    "## 8. Visualization of Results"
   ]
  },
  {
   "cell_type": "code",
   "execution_count": null,
   "metadata": {},
   "outputs": [],
   "source": [
    "fig, axes = plt.subplots(2, 2, figsize=(15, 12))\n",
    "\n",
    "# Actual vs Predicted\n",
    "axes[0, 0].scatter(y_test, y_test_pred, alpha=0.6)\n",
    "axes[0, 0].plot([y_test.min(), y_test.max()], [y_test.min(), y_test.max()], 'r--', lw=2)\n",
    "axes[0, 0].set_xlabel('Actual Price')\n",
    "axes[0, 0].set_ylabel('Predicted Price')\n",
    "axes[0, 0].set_title('Actual vs Predicted Prices')\n",
    "axes[0, 0].grid(True, alpha=0.3)\n",
    "\n",
    "# Residuals plot\n",
    "residuals = y_test - y_test_pred\n",
    "axes[0, 1].scatter(y_test_pred, residuals, alpha=0.6)\n",
    "axes[0, 1].axhline(y=0, color='r', linestyle='--')\n",
    "axes[0, 1].set_xlabel('Predicted Price')\n",
    "axes[0, 1].set_ylabel('Residuals')\n",
    "axes[0, 1].set_title('Residuals Plot')\n",
    "axes[0, 1].grid(True, alpha=0.3)\n",
    "\n",
    "# Feature importance\n",
    "feature_names = X_multi.columns\n",
    "coefficients = multi_model.coef_\n",
    "axes[1, 0].bar(feature_names, coefficients)\n",
    "axes[1, 0].set_title('Feature Coefficients')\n",
    "axes[1, 0].set_ylabel('Coefficient Value')\n",
    "plt.setp(axes[1, 0].xaxis.get_majorticklabels(), rotation=45)\n",
    "\n",
    "# Distribution of residuals\n",
    "axes[1, 1].hist(residuals, bins=20, alpha=0.7, edgecolor='black')\n",
    "axes[1, 1].set_xlabel('Residuals')\n",
    "axes[1, 1].set_ylabel('Frequency')\n",
    "axes[1, 1].set_title('Distribution of Residuals')\n",
    "axes[1, 1].grid(True, alpha=0.3)\n",
    "\n",
    "plt.tight_layout()\n",
    "plt.show()"
   ]
  },
  {
   "cell_type": "markdown",
   "metadata": {},
   "source": [
    "## 9. Exercise: Polynomial Regression"
   ]
  },
  {
   "cell_type": "code",
   "execution_count": null,
   "metadata": {},
   "outputs": [],
   "source": [
    "from sklearn.preprocessing import PolynomialFeatures\n",
    "from sklearn.pipeline import Pipeline\n",
    "\n",
    "# Generate non-linear data\n",
    "X_poly = np.linspace(0, 4, 100)\n",
    "y_poly = 0.5 * X_poly**3 - 2 * X_poly**2 + X_poly + 1 + np.random.normal(0, 1, 100)\n",
    "\n",
    "# Reshape for sklearn\n",
    "X_poly_reshaped = X_poly.reshape(-1, 1)\n",
    "\n",
    "# Try different polynomial degrees\n",
    "degrees = [1, 2, 3, 4]\n",
    "plt.figure(figsize=(15, 10))\n",
    "\n",
    "for i, degree in enumerate(degrees, 1):\n",
    "    # Create polynomial features and fit model\n",
    "    poly_model = Pipeline([\n",
    "        ('poly', PolynomialFeatures(degree=degree)),\n",
    "        ('linear', LinearRegression())\n",
    "    ])\n",
    "    \n",
    "    poly_model.fit(X_poly_reshaped, y_poly)\n",
    "    y_poly_pred = poly_model.predict(X_poly_reshaped)\n",
    "    \n",
    "    # Plot\n",
    "    plt.subplot(2, 2, i)\n",
    "    plt.scatter(X_poly, y_poly, alpha=0.6, color='blue')\n",
    "    plt.plot(X_poly, y_poly_pred, 'r-', linewidth=2)\n",
    "    plt.title(f'Polynomial Degree {degree} (R² = {poly_model.score(X_poly_reshaped, y_poly):.3f})')\n",
    "    plt.xlabel('X')\n",
    "    plt.ylabel('y')\n",
    "    plt.grid(True, alpha=0.3)\n",
    "\n",
    "plt.tight_layout()\n",
    "plt.show()"
   ]
  },
  {
   "cell_type": "markdown",
   "metadata": {},
   "source": [
    "## 10. Key Takeaways\n",
    "\n",
    "### What we covered:\n",
    "1. **Simple Linear Regression from scratch** - Understanding the mathematics\n",
    "2. **Comparison with Scikit-Learn** - Validating our implementation\n",
    "3. **Multiple Linear Regression** - Handling multiple features\n",
    "4. **Model Evaluation** - R², RMSE, residual analysis\n",
    "5. **Polynomial Regression** - Handling non-linear relationships\n",
    "\n",
    "### Key Concepts:\n",
    "- **Least Squares Method**: Minimizes sum of squared residuals\n",
    "- **R² Score**: Explains variance in the target variable\n",
    "- **Residual Analysis**: Check for patterns indicating model issues\n",
    "- **Overfitting**: Higher degree polynomials may overfit\n"
   ]
  }
 ],
 "metadata": {
  "kernelspec": {
   "display_name": "Python 3",
   "language": "python",
   "name": "python3"
  },
  "language_info": {
   "codemirror_mode": {
    "name": "ipython",
    "version": 3
   },
   "file_extension": ".py",
   "mimetype": "text/x-python",
   "name": "python",
   "nbconvert_exporter": "python",
   "pygments_lexer": "ipython3",
   "version": "3.8.5"
  }
 },
 "nbformat": 4,
 "nbformat_minor": 4
}